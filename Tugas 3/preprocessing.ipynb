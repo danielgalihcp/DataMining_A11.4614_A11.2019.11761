{
  "nbformat": 4,
  "nbformat_minor": 0,
  "metadata": {
    "colab": {
      "name": "preprocessing.ipynb",
      "provenance": []
    },
    "kernelspec": {
      "name": "python3",
      "display_name": "Python 3"
    },
    "language_info": {
      "name": "python"
    }
  },
  "cells": [
    {
      "cell_type": "code",
      "execution_count": 1,
      "metadata": {
        "id": "W9B0-pn_TcXD"
      },
      "outputs": [],
      "source": [
        "import numpy as np\n",
        "import matplotlib.pyplot as plt\n",
        "import pandas as pd\n"
      ]
    },
    {
      "cell_type": "code",
      "source": [
        "dataset = pd.read_csv('dataindustripariwisatajakarta.csv')\n",
        "x = dataset.iloc[:, :7].values\n"
      ],
      "metadata": {
        "id": "fVPM551CVJTL"
      },
      "execution_count": 41,
      "outputs": []
    },
    {
      "cell_type": "code",
      "source": [
        "print(x)"
      ],
      "metadata": {
        "colab": {
          "base_uri": "https://localhost:8080/"
        },
        "id": "j5BY61HmWgnf",
        "outputId": "06a4e287-b994-4c90-98a5-910a9807c0c7"
      },
      "execution_count": 42,
      "outputs": [
        {
          "output_type": "stream",
          "name": "stdout",
          "text": [
            "[['JAKARTA PUSAT' 205 29571 224 1259 402]\n",
            " ['JAKARTA UTARA' 59 7420 285 937 134]\n",
            " ['JAKARTA BARAT' 104 11476 300 742 180]\n",
            " ['JAKARTA TIMUR' 29 3010 88 262 334]\n",
            " ['JAKARTA SELATAN ' 119 16515 390 2204 698]]\n"
          ]
        }
      ]
    },
    {
      "cell_type": "code",
      "source": [
        "from sklearn.compose import ColumnTransformer\n",
        "from sklearn.preprocessing import OneHotEncoder\n",
        "ct = ColumnTransformer(transformers=[('encoder', OneHotEncoder(), [0])], remainder='passthrough')\n",
        "x = np.array(ct.fit_transform(x))"
      ],
      "metadata": {
        "id": "KWa4RbW_ZJH_"
      },
      "execution_count": 43,
      "outputs": []
    },
    {
      "cell_type": "code",
      "source": [
        "print(x)"
      ],
      "metadata": {
        "colab": {
          "base_uri": "https://localhost:8080/"
        },
        "id": "kob66FnXagyj",
        "outputId": "42a50853-1882-41e2-a490-da6dd4425b0c"
      },
      "execution_count": 44,
      "outputs": [
        {
          "output_type": "stream",
          "name": "stdout",
          "text": [
            "[[0.0 1.0 0.0 0.0 0.0 205 29571 224 1259 402]\n",
            " [0.0 0.0 0.0 0.0 1.0 59 7420 285 937 134]\n",
            " [1.0 0.0 0.0 0.0 0.0 104 11476 300 742 180]\n",
            " [0.0 0.0 0.0 1.0 0.0 29 3010 88 262 334]\n",
            " [0.0 0.0 1.0 0.0 0.0 119 16515 390 2204 698]]\n"
          ]
        }
      ]
    },
    {
      "cell_type": "code",
      "source": [
        "from sklearn.model_selection import train_test_split\n",
        "x_train, x_test = train_test_split(x, test_size = 0.2, random_state=1)"
      ],
      "metadata": {
        "id": "0iNWldgJbhIM"
      },
      "execution_count": 45,
      "outputs": []
    },
    {
      "cell_type": "code",
      "source": [
        "print(x_train)"
      ],
      "metadata": {
        "colab": {
          "base_uri": "https://localhost:8080/"
        },
        "id": "86bv2MVWdJ2v",
        "outputId": "2626e088-b086-4424-ed41-81a4e33f8258"
      },
      "execution_count": 46,
      "outputs": [
        {
          "output_type": "stream",
          "name": "stdout",
          "text": [
            "[[0.0 0.0 0.0 0.0 1.0 59 7420 285 937 134]\n",
            " [0.0 0.0 1.0 0.0 0.0 119 16515 390 2204 698]\n",
            " [0.0 1.0 0.0 0.0 0.0 205 29571 224 1259 402]\n",
            " [0.0 0.0 0.0 1.0 0.0 29 3010 88 262 334]]\n"
          ]
        }
      ]
    },
    {
      "cell_type": "code",
      "source": [
        "print(x_test)"
      ],
      "metadata": {
        "colab": {
          "base_uri": "https://localhost:8080/"
        },
        "id": "xtpJOBJrdNfi",
        "outputId": "7d58615a-bc8d-4431-befb-0ff266c2ae34"
      },
      "execution_count": 47,
      "outputs": [
        {
          "output_type": "stream",
          "name": "stdout",
          "text": [
            "[[1.0 0.0 0.0 0.0 0.0 104 11476 300 742 180]]\n"
          ]
        }
      ]
    },
    {
      "cell_type": "code",
      "source": [
        "from sklearn.preprocessing import StandardScaler\n",
        "sc = StandardScaler()\n",
        "x_train[:, 5:] = sc.fit_transform(x_train[:, 5:])\n",
        "x_test[:, 5:] = sc.transform(x_test[:, 5:])"
      ],
      "metadata": {
        "id": "ADH2j61BdT75"
      },
      "execution_count": 49,
      "outputs": []
    },
    {
      "cell_type": "code",
      "source": [
        "print(x_train)"
      ],
      "metadata": {
        "colab": {
          "base_uri": "https://localhost:8080/"
        },
        "id": "Wf77yFBheXL0",
        "outputId": "61cc5154-e80d-4783-b38e-f2319d7cda5e"
      },
      "execution_count": 50,
      "outputs": [
        {
          "output_type": "stream",
          "name": "stdout",
          "text": [
            "[[0.0 0.0 0.0 0.0 1.0 -0.6546053692602627 -0.6604235803985495\n",
            "  0.3502593416403612 -0.326783140095236 -1.2754784372596666]\n",
            " [0.0 0.0 1.0 0.0 0.0 0.23803831609464096 0.23487414858115058\n",
            "  1.3117555735942938 1.4851828927304274 1.5127767511684418]\n",
            " [0.0 1.0 0.0 0.0 0.0 1.517494265103336 1.5200865894342528\n",
            "  -0.20832418359001875 0.13371651465603757 0.04943714873099483]\n",
            " [0.0 0.0 0.0 1.0 0.0 -1.1009272119377145 -1.0945371576168539\n",
            "  -1.4536907316446364 -1.292116267291229 -0.28673546263977]]\n"
          ]
        }
      ]
    },
    {
      "cell_type": "code",
      "source": [
        "print(x_test)"
      ],
      "metadata": {
        "colab": {
          "base_uri": "https://localhost:8080/"
        },
        "id": "zT9lI2pLejrQ",
        "outputId": "2674bfe0-e91d-4851-ac2c-13a4d2563ece"
      },
      "execution_count": 51,
      "outputs": [
        {
          "output_type": "stream",
          "name": "stdout",
          "text": [
            "[[1.0 0.0 0.0 0.0 0.0 104.0 11476.0 300.0 742.0 180.0]]\n"
          ]
        }
      ]
    }
  ]
}